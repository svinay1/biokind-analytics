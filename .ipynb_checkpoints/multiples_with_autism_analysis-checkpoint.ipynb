{
 "cells": [
  {
   "cell_type": "code",
   "execution_count": 1,
   "id": "cf3f9fc5",
   "metadata": {},
   "outputs": [],
   "source": [
    "import numpy as np\n",
    "import matplotlib.pyplot as plt\n",
    "import pandas as pd"
   ]
  },
  {
   "cell_type": "code",
   "execution_count": 2,
   "id": "51bc1c05",
   "metadata": {},
   "outputs": [],
   "source": [
    "# Placeholder for privacy reasons\n",
    "dataset = pd.read_csv('dataset name')"
   ]
  },
  {
   "cell_type": "code",
   "execution_count": 3,
   "id": "c8019995",
   "metadata": {},
   "outputs": [],
   "source": [
    "dropped1 = dataset.dropna(subset=[\"Multiples with Autism\"], inplace=False)\n",
    "dropped2 = dropped1.dropna(subset=[\"Amount Awarded\"], inplace=False)"
   ]
  },
  {
   "cell_type": "code",
   "execution_count": 4,
   "id": "88eaecae",
   "metadata": {},
   "outputs": [
    {
     "name": "stdout",
     "output_type": "stream",
     "text": [
      "    Multiples with Autism  Amount Awarded\n",
      "0                     0.0          3750.0\n",
      "1                     0.0          1086.0\n",
      "3                     0.0          3000.0\n",
      "6                     2.0          1440.0\n",
      "7                     0.0           534.0\n",
      "9                     2.0          5000.0\n",
      "10                    2.0          5000.0\n",
      "11                    0.0          2700.0\n",
      "12                    0.0          5000.0\n",
      "13                    0.0           534.0\n",
      "17                    0.0          2700.0\n",
      "18                    0.0          3300.0\n",
      "19                    0.0          1200.0\n",
      "20                    0.0          1068.0\n",
      "21                    0.0          1068.0\n",
      "23                    0.0           500.0\n",
      "24                    0.0           534.0\n",
      "25                    0.0          5000.0\n",
      "28                    0.0          1800.0\n",
      "30                    0.0          5000.0\n",
      "31                    0.0          5000.0\n",
      "33                    0.0          1500.0\n",
      "36                    0.0          5000.0\n",
      "40                    0.0          4550.0\n",
      "43                    0.0          2775.0\n",
      "44                    3.0          3000.0\n",
      "45                    3.0          3000.0\n",
      "46                    3.0          3000.0\n",
      "51                    0.0          5000.0\n",
      "56                    3.0           224.0\n",
      "57                    3.0           224.0\n",
      "59                    3.0           224.0\n",
      "60                    0.0          1000.0\n",
      "62                    0.0          5000.0\n",
      "63                    0.0          4200.0\n",
      "64                    2.0          2199.0\n",
      "65                    0.0          4500.0\n",
      "67                    0.0           500.0\n",
      "68                    2.0          3034.0\n",
      "69                    2.0          3034.0\n",
      "70                    2.0          2240.0\n",
      "73                    0.0          5000.0\n",
      "74                    0.0          5000.0\n",
      "75                    0.0          1440.0\n",
      "81                    0.0           468.0\n",
      "89                    0.0          5000.0\n",
      "93                    2.0          5000.0\n",
      "94                    2.0          5000.0\n"
     ]
    }
   ],
   "source": [
    "new_ds = dropped2[[\"Multiples with Autism\", \"Amount Awarded\"]]\n",
    "print(new_ds)"
   ]
  },
  {
   "cell_type": "code",
   "execution_count": 5,
   "id": "2c322c5d",
   "metadata": {},
   "outputs": [
    {
     "name": "stdout",
     "output_type": "stream",
     "text": [
      "[0.0, 0.0, 0.0, 2.0, 0.0, 2.0, 2.0, 0.0, 0.0, 0.0, 0.0, 0.0, 0.0, 0.0, 0.0, 0.0, 0.0, 0.0, 0.0, 0.0, 0.0, 0.0, 0.0, 0.0, 0.0, 3.0, 3.0, 3.0, 0.0, 3.0, 3.0, 3.0, 0.0, 0.0, 0.0, 2.0, 0.0, 0.0, 2.0, 2.0, 2.0, 0.0, 0.0, 0.0, 0.0, 0.0, 2.0, 2.0]\n",
      "[3750.0, 1086.0, 3000.0, 1440.0, 534.0, 5000.0, 5000.0, 2700.0, 5000.0, 534.0, 2700.0, 3300.0, 1200.0, 1068.0, 1068.0, 500.0, 534.0, 5000.0, 1800.0, 5000.0, 5000.0, 1500.0, 5000.0, 4550.0, 2775.0, 3000.0, 3000.0, 3000.0, 5000.0, 224.0, 224.0, 224.0, 1000.0, 5000.0, 4200.0, 2199.0, 4500.0, 500.0, 3034.0, 3034.0, 2240.0, 5000.0, 5000.0, 1440.0, 468.0, 5000.0, 5000.0, 5000.0]\n"
     ]
    }
   ],
   "source": [
    "# Print out columns\n",
    "x_axis = list(new_ds[\"Multiples with Autism\"].unique())\n",
    "dict_sum = {}\n",
    "dict_num = {}\n",
    "column1 = list(new_ds[\"Multiples with Autism\"])\n",
    "column2 = list(new_ds[\"Amount Awarded\"])\n",
    "print(column1)\n",
    "print(column2)"
   ]
  },
  {
   "cell_type": "code",
   "execution_count": 6,
   "id": "1c8b0527",
   "metadata": {},
   "outputs": [
    {
     "name": "stdout",
     "output_type": "stream",
     "text": [
      "{0.0: 94707, 2.0: 31947, 3.0: 9672}\n",
      "{0.0: 33, 2.0: 9, 3.0: 6}\n"
     ]
    }
   ],
   "source": [
    "# Sum dictionary\n",
    "for row in range(len(new_ds)):\n",
    "    key = column1[row]\n",
    "    if key in dict_sum:\n",
    "        dict_sum[key] += int(column2[row])\n",
    "    else:\n",
    "        dict_sum[key] = int(column2[row])\n",
    "    if key in dict_num:\n",
    "        dict_num[key] += 1\n",
    "    else:\n",
    "        dict_num[key] = 1\n",
    "print(dict_sum)\n",
    "print(dict_num)"
   ]
  },
  {
   "cell_type": "code",
   "execution_count": 7,
   "id": "d349fab6",
   "metadata": {},
   "outputs": [
    {
     "name": "stdout",
     "output_type": "stream",
     "text": [
      "{0.0: 2869.909090909091, 2.0: 3549.6666666666665, 3.0: 1612.0}\n"
     ]
    }
   ],
   "source": [
    "# Average dictionary\n",
    "dict_avg = {}\n",
    "for key in dict_sum:\n",
    "    dict_avg[key] = dict_sum[key] / dict_num[key]\n",
    "print(dict_avg)"
   ]
  },
  {
   "cell_type": "code",
   "execution_count": 8,
   "id": "259341aa",
   "metadata": {},
   "outputs": [],
   "source": [
    "# Generate plot axes\n",
    "multiples = []\n",
    "amount_awarded = []\n",
    "for key, value in dict_avg.items():\n",
    "    multiples.append(int(key))\n",
    "    amount_awarded.append(value)"
   ]
  },
  {
   "cell_type": "code",
   "execution_count": 9,
   "id": "bcf35fb2",
   "metadata": {},
   "outputs": [
    {
     "data": {
      "image/png": "[encoded data removed]",
      "text/plain": [
       "<Figure size 432x288 with 1 Axes>"
      ]
     },
     "metadata": {},
     "output_type": "display_data"
    }
   ],
   "source": [
    "# Generate plot\n",
    "plt.pie(amount_awarded, labels = multiples, autopct='%.1f%%')\n",
    "plt.title(\"Average Amount Awarded for each Number with Autism/Household\")\n",
    "plt.legend()\n",
    "plt.show()"
   ]
  }
 ],
 "metadata": {
  "kernelspec": {
   "display_name": "Python 3 (ipykernel)",
   "language": "python",
   "name": "python3"
  },
  "language_info": {
   "codemirror_mode": {
    "name": "ipython",
    "version": 3
   },
   "file_extension": ".py",
   "mimetype": "text/x-python",
   "name": "python",
   "nbconvert_exporter": "python",
   "pygments_lexer": "ipython3",
   "version": "3.9.12"
  }
 },
 "nbformat": 4,
 "nbformat_minor": 5
}
