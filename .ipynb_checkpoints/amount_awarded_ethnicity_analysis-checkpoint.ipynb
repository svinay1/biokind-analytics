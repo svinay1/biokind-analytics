{
 "cells": [
  {
   "cell_type": "code",
   "execution_count": 1,
   "id": "7dfa3bd0",
   "metadata": {},
   "outputs": [],
   "source": [
    "import numpy as np\n",
    "import matplotlib.pyplot as plt\n",
    "import pandas as pd"
   ]
  },
  {
   "cell_type": "code",
   "execution_count": 2,
   "id": "c7054acd",
   "metadata": {},
   "outputs": [],
   "source": [
    "# Placeholder for privacy reasons\n",
    "dataset = pd.read_csv('dataset name')"
   ]
  },
  {
   "cell_type": "code",
   "execution_count": 3,
   "id": "abf124cb",
   "metadata": {},
   "outputs": [
    {
     "data": {
      "text/plain": [
       "dtype('float64')"
      ]
     },
     "execution_count": 3,
     "metadata": {},
     "output_type": "execute_result"
    }
   ],
   "source": [
    "dataset.dtypes[\"Amount Awarded\"]"
   ]
  },
  {
   "cell_type": "code",
   "execution_count": 4,
   "id": "7c261c21",
   "metadata": {},
   "outputs": [
    {
     "data": {
      "text/plain": [
       "27"
      ]
     },
     "execution_count": 4,
     "metadata": {},
     "output_type": "execute_result"
    }
   ],
   "source": [
    "dataset.isna().sum()[\"Amount Awarded\"]"
   ]
  },
  {
   "cell_type": "code",
   "execution_count": 5,
   "id": "5e13c097",
   "metadata": {
    "scrolled": true
   },
   "outputs": [
    {
     "name": "stdout",
     "output_type": "stream",
     "text": [
      "16673\n"
     ]
    }
   ],
   "source": [
    "# More data cleaning\n",
    "sum_num = 0\n",
    "for value in dataset[\"Amount Awarded\"]:\n",
    "    whole_num = str(value)[:-3]\n",
    "    num = whole_num.replace(',','')\n",
    "    if num != '':\n",
    "        sum_num += int(num)\n",
    "print(sum_num)"
   ]
  },
  {
   "cell_type": "code",
   "execution_count": 6,
   "id": "08ef1526",
   "metadata": {},
   "outputs": [],
   "source": [
    "# Conversion to integers for data cleaning - if necessary\n",
    "def to_integer(value):\n",
    "    sum_num = 0\n",
    "    whole_num = str(value)[:-3]\n",
    "    num_list = list(whole_num)\n",
    "    if ',' in num_list:\n",
    "        num_list.remove(',')\n",
    "    string = \"\"\n",
    "    for num in num_list:\n",
    "        string += num\n",
    "    return int(string)"
   ]
  },
  {
   "cell_type": "code",
   "execution_count": 7,
   "id": "264ffcbb",
   "metadata": {},
   "outputs": [
    {
     "name": "stdout",
     "output_type": "stream",
     "text": [
      "{'Caucasian': 19, 'Middle Eastern/Arab': 6, 'Asian': 25, 'Hispanic': 16, 'Black': 21, 'Inter-racial': 4}\n"
     ]
    }
   ],
   "source": [
    "# Find n-values of each ethnicity\n",
    "import math\n",
    "n_vals = {}\n",
    "df = dataset[[\"Ethnicity\", \"Amount Awarded\"]]\n",
    "new_df = df.dropna(subset=[\"Ethnicity\"], inplace=False)\n",
    "for ethnicity in new_df[\"Ethnicity\"]:\n",
    "    if ethnicity in n_vals:\n",
    "        n_vals[ethnicity] += 1\n",
    "    else:\n",
    "        n_vals[ethnicity] = 1\n",
    "print(n_vals)"
   ]
  },
  {
   "cell_type": "code",
   "execution_count": 22,
   "id": "7b8b65a6",
   "metadata": {},
   "outputs": [
    {
     "name": "stdout",
     "output_type": "stream",
     "text": [
      "['Caucasian', 'Middle Eastern/Arab', 'Asian', 'Hispanic', 'Black', 'Inter-racial']\n",
      "[3750.0, 3000.0, 1440.0, 5000.0, 1200.0, 1068.0, 1000.0, 1500.0, nan, 2775.0, 2199.0, 3034.0, 3034.0, 2240.0, nan, 5000.0, nan, 468.0, nan]\n",
      "[1086.0, 534.0, 5000.0, 5000.0, 2700.0, 534.0]\n",
      "[nan, 534.0, 3300.0, 1068.0, 534.0, 534.0, 5000.0, 5000.0, nan, 3000.0, 3000.0, 3000.0, nan, 5000.0, 224.0, 224.0, nan, 224.0, 4500.0, 801.0, nan, 534.0, 500.0, 3320.0, 5000.0]\n",
      "[534.0, 534.0, nan, nan, nan, 2700.0, 4550.0, 5000.0, nan, 1000.0, 1000.0, 5000.0, 5000.0, 1440.0, 3334.0, nan]\n",
      "[5000.0, nan, 5000.0, nan, 1800.0, 5000.0, nan, nan, nan, nan, nan, nan, nan, 4200.0, 500.0, 500.0, 534.0, nan, 534.0, 534.0, 5000.0]\n",
      "[nan, nan, 5000.0, 5000.0]\n",
      "[193.0, 247.33333333333334, 181.04, 188.0, 136.14285714285714, 250.0]\n"
     ]
    }
   ],
   "source": [
    "# Find averages for each ethnicity - with data cleaning\n",
    "unique = list(new_df[\"Ethnicity\"].unique())\n",
    "print(unique)\n",
    "avg_list = []\n",
    "for ethnicity in unique:\n",
    "    ethnicity_df = new_df[new_df[\"Ethnicity\"] == ethnicity]\n",
    "    money_list = list(ethnicity_df[\"Amount Awarded\"])\n",
    "    print(money_list)\n",
    "    int_list = []\n",
    "    for value in money_list:\n",
    "        num = str(value)[-2:]\n",
    "        if num == '.0':\n",
    "            int_list.append(to_integer(value))\n",
    "    sum_num = 0\n",
    "    for num in int_list:\n",
    "        sum_num += num\n",
    "    if len(money_list) > 0:\n",
    "        avg_list.append(sum_num / len(money_list))\n",
    "print(avg_list)"
   ]
  },
  {
   "cell_type": "markdown",
   "id": "3d63b7cd",
   "metadata": {},
   "source": []
  },
  {
   "cell_type": "code",
   "execution_count": 23,
   "id": "98477c75",
   "metadata": {},
   "outputs": [
    {
     "data": {
      "image/png": "[encoded data removed]",
      "text/plain": [
       "<Figure size 1080x360 with 1 Axes>"
      ]
     },
     "metadata": {
      "needs_background": "light"
     },
     "output_type": "display_data"
    }
   ],
   "source": [
    "# Generate plot\n",
    "fig = plt.figure(figsize = (15, 5))\n",
    "plt.xlabel(\"Ethnicity\")\n",
    "plt.ylabel(\"Average Amount Awarded\")\n",
    "plt.title(\"Average Amount Awarded for each Ethnicity\")\n",
    "plt.bar(unique, avg_list, width = 0.8)\n",
    "plt.show()"
   ]
  }
 ],
 "metadata": {
  "kernelspec": {
   "display_name": "Python 3 (ipykernel)",
   "language": "python",
   "name": "python3"
  },
  "language_info": {
   "codemirror_mode": {
    "name": "ipython",
    "version": 3
   },
   "file_extension": ".py",
   "mimetype": "text/x-python",
   "name": "python",
   "nbconvert_exporter": "python",
   "pygments_lexer": "ipython3",
   "version": "3.9.12"
  }
 },
 "nbformat": 4,
 "nbformat_minor": 5
}
