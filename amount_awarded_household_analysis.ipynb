{
 "cells": [
  {
   "cell_type": "code",
   "execution_count": 2,
   "id": "bebab5eb",
   "metadata": {},
   "outputs": [],
   "source": [
    "import numpy as np\n",
    "import matplotlib.pyplot as plt\n",
    "import pandas as pd"
   ]
  },
  {
   "cell_type": "code",
   "execution_count": 3,
   "id": "bd2cfd04",
   "metadata": {},
   "outputs": [],
   "source": [
    "# Placeholder for privacy reasons\n",
    "dataset = pd.read_csv('dataset name')"
   ]
  },
  {
   "cell_type": "code",
   "execution_count": 4,
   "id": "c8757080",
   "metadata": {},
   "outputs": [],
   "source": [
    "dropped1 = dataset.dropna(subset=[\"Household Number\"], inplace=False)\n",
    "dropped2 = dropped1.dropna(subset=[\"Amount Awarded\"], inplace=False)"
   ]
  },
  {
   "cell_type": "code",
   "execution_count": 5,
   "id": "7e35b2e5",
   "metadata": {},
   "outputs": [
    {
     "name": "stdout",
     "output_type": "stream",
     "text": [
      "    Household Number  Amount Awarded\n",
      "0                3.0          3750.0\n",
      "1                3.0          1086.0\n",
      "2                3.0           534.0\n",
      "3                5.0          3000.0\n",
      "5                3.0           534.0\n",
      "..               ...             ...\n",
      "87               4.0          3320.0\n",
      "88               4.0           534.0\n",
      "89               4.0          5000.0\n",
      "93               4.0          5000.0\n",
      "94               4.0          5000.0\n",
      "\n",
      "[64 rows x 2 columns]\n"
     ]
    }
   ],
   "source": [
    "new_ds = dropped2[[\"Household Number\", \"Amount Awarded\"]]\n",
    "print(new_ds)"
   ]
  },
  {
   "cell_type": "code",
   "execution_count": 6,
   "id": "fd138135",
   "metadata": {},
   "outputs": [
    {
     "name": "stdout",
     "output_type": "stream",
     "text": [
      "[3.0, 3.0, 3.0, 5.0, 3.0, 4.0, 5.0, 6.0, 7.0, 7.0, 4.0, 5.0, 2.0, 6.0, 4.0, 4.0, 4.0, 3.0, 2.0, 4.0, 4.0, 4.0, 3.0, 2.0, 4.0, 3.0, 3.0, 6.0, 5.0, 5.0, 4.0, 5.0, 4.0, 6.0, 4.0, 4.0, 8.0, 5.0, 5.0, 5.0, 4.0, 3.0, 5.0, 6.0, 6.0, 3.0, 4.0, 4.0, 5.0, 4.0, 5.0, 3.0, 3.0, 5.0, 3.0, 5.0, 4.0, 5.0, 4.0, 4.0, 4.0, 4.0, 4.0, 4.0]\n",
      "[3750.0, 1086.0, 534.0, 3000.0, 534.0, 1440.0, 534.0, 5000.0, 5000.0, 5000.0, 2700.0, 5000.0, 534.0, 2700.0, 3300.0, 1200.0, 1068.0, 1068.0, 500.0, 534.0, 5000.0, 534.0, 1800.0, 1000.0, 5000.0, 5000.0, 534.0, 1500.0, 5000.0, 4550.0, 2775.0, 3000.0, 3000.0, 3000.0, 534.0, 5000.0, 5000.0, 224.0, 224.0, 224.0, 1000.0, 5000.0, 4200.0, 2199.0, 4500.0, 500.0, 500.0, 3034.0, 3034.0, 2240.0, 5000.0, 5000.0, 1440.0, 267.0, 801.0, 534.0, 468.0, 3334.0, 500.0, 3320.0, 534.0, 5000.0, 5000.0, 5000.0]\n"
     ]
    }
   ],
   "source": [
    "# Print out columns\n",
    "x_axis = list(new_ds[\"Household Number\"].unique())\n",
    "dict_sum = {}\n",
    "dict_num = {}\n",
    "column1 = list(new_ds[\"Household Number\"])\n",
    "column2 = list(new_ds[\"Amount Awarded\"])\n",
    "print(column1)\n",
    "print(column2)"
   ]
  },
  {
   "cell_type": "code",
   "execution_count": 12,
   "id": "c359e81d",
   "metadata": {},
   "outputs": [
    {
     "name": "stdout",
     "output_type": "stream",
     "text": [
      "{3.0: 81141, 5.0: 114375, 4.0: 176043, 6.0: 56697, 7.0: 30000, 2.0: 6102, 8.0: 15000}\n",
      "{3.0: 39, 5.0: 45, 4.0: 72, 6.0: 18, 7.0: 6, 2.0: 9, 8.0: 3}\n"
     ]
    }
   ],
   "source": [
    "# Frequency dictionary\n",
    "for row in range(len(new_ds)):\n",
    "    key = column1[row]\n",
    "    if key in dict_sum:\n",
    "        dict_sum[key] += int(column2[row])        \n",
    "    else:\n",
    "        dict_sum[key] = int(column2[row])\n",
    "    if key in dict_num:\n",
    "        dict_num[key] += 1\n",
    "    else:\n",
    "        dict_num[key] = 1\n",
    "print(dict_sum)\n",
    "print(dict_num)"
   ]
  },
  {
   "cell_type": "code",
   "execution_count": 8,
   "id": "fa4c5a73",
   "metadata": {},
   "outputs": [
    {
     "name": "stdout",
     "output_type": "stream",
     "text": [
      "{3.0: 2080.5384615384614, 5.0: 2541.6666666666665, 4.0: 2445.0416666666665, 6.0: 3149.8333333333335, 7.0: 5000.0, 2.0: 678.0, 8.0: 5000.0}\n"
     ]
    }
   ],
   "source": [
    "# Average dictionary\n",
    "dict_avg = {}\n",
    "for key in dict_sum:\n",
    "    dict_avg[key] = dict_sum[key] / dict_num[key]\n",
    "print(dict_avg)"
   ]
  },
  {
   "cell_type": "code",
   "execution_count": 9,
   "id": "435bc07a",
   "metadata": {},
   "outputs": [],
   "source": [
    "# For plot axes\n",
    "household_num = []\n",
    "amount_awarded = []\n",
    "for key, value in dict_avg.items():\n",
    "    household_num.append(key)\n",
    "    amount_awarded.append(value)"
   ]
  },
  {
   "cell_type": "code",
   "execution_count": 10,
   "id": "688721ae",
   "metadata": {},
   "outputs": [
    {
     "data": {
      "image/png": "[encoded data removed]",
      "text/plain": [
       "<Figure size 432x288 with 1 Axes>"
      ]
     },
     "metadata": {
      "needs_background": "light"
     },
     "output_type": "display_data"
    }
   ],
   "source": [
    "# Generate plot\n",
    "plt.bar(household_num, amount_awarded)\n",
    "plt.xlabel(\"Household Number\")\n",
    "plt.ylabel(\"Average Amount Awarded\")\n",
    "plt.title(\"Average Amount Awarded for each Household Number\")\n",
    "plt.show()"
   ]
  }
 ],
 "metadata": {
  "kernelspec": {
   "display_name": "Python 3 (ipykernel)",
   "language": "python",
   "name": "python3"
  },
  "language_info": {
   "codemirror_mode": {
    "name": "ipython",
    "version": 3
   },
   "file_extension": ".py",
   "mimetype": "text/x-python",
   "name": "python",
   "nbconvert_exporter": "python",
   "pygments_lexer": "ipython3",
   "version": "3.9.12"
  }
 },
 "nbformat": 4,
 "nbformat_minor": 5
}
